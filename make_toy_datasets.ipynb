{
 "cells": [
  {
   "cell_type": "code",
   "execution_count": null,
   "metadata": {
    "collapsed": false,
    "deletable": true,
    "editable": true
   },
   "outputs": [],
   "source": [
    "import pandas as pd\n",
    "import numpy as np\n",
    "import matplotlib.pyplot as plt\n",
    "\n",
    "% pylab inline"
   ]
  },
  {
   "cell_type": "code",
   "execution_count": null,
   "metadata": {
    "collapsed": true,
    "deletable": true,
    "editable": true
   },
   "outputs": [],
   "source": [
    "PATH_TO_DATASETS = './data/'"
   ]
  },
  {
   "cell_type": "code",
   "execution_count": null,
   "metadata": {
    "collapsed": true,
    "deletable": true,
    "editable": true
   },
   "outputs": [],
   "source": [
    "def assign_dataset(row):\n",
    "    r = np.random.uniform()\n",
    "    if r <= 0.6:\n",
    "        return 'Train'\n",
    "    elif r < 0.8:\n",
    "        return 'Test'\n",
    "    else:\n",
    "        return 'Val'"
   ]
  },
  {
   "cell_type": "code",
   "execution_count": null,
   "metadata": {
    "collapsed": true,
    "deletable": true,
    "editable": true
   },
   "outputs": [],
   "source": [
    "def plot_regression_data(X,Y):\n",
    "    plt.figure()\n",
    "    plt.scatter(X,Y)\n",
    "    plt.show()"
   ]
  },
  {
   "cell_type": "code",
   "execution_count": null,
   "metadata": {
    "collapsed": false,
    "deletable": true,
    "editable": true
   },
   "outputs": [],
   "source": [
    "def plot_binary_classification_data(class1_X, class2_X):\n",
    "    plt.figure()\n",
    "    plt.scatter(class1_X[:,0],class1_X[:,1], color='b')\n",
    "    plt.scatter(class2_X[:,0],class2_X[:,1], color='r')\n",
    "    plt.show()"
   ]
  },
  {
   "cell_type": "markdown",
   "metadata": {
    "deletable": true,
    "editable": true
   },
   "source": [
    "## Make toy regression data - line"
   ]
  },
  {
   "cell_type": "code",
   "execution_count": null,
   "metadata": {
    "collapsed": true,
    "deletable": true,
    "editable": true
   },
   "outputs": [],
   "source": [
    "X1 = np.random.rand(500)\n",
    "Y1 = X1 + np.random.standard_t(3, X1.shape)*0.03"
   ]
  },
  {
   "cell_type": "code",
   "execution_count": null,
   "metadata": {
    "collapsed": false,
    "deletable": true,
    "editable": true
   },
   "outputs": [],
   "source": [
    "plot_regression_data(X1,Y1)"
   ]
  },
  {
   "cell_type": "code",
   "execution_count": null,
   "metadata": {
    "collapsed": true,
    "deletable": true,
    "editable": true
   },
   "outputs": [],
   "source": [
    "toy_df = pd.DataFrame()\n",
    "toy_df['X'] = X1\n",
    "toy_df['label'] = Y1\n",
    "toy_df['dataset'] = toy_df.apply(assign_dataset, axis=1)\n",
    "toy_df.to_csv(PATH_TO_DATASETS + 'regression-line.csv')"
   ]
  },
  {
   "cell_type": "markdown",
   "metadata": {
    "deletable": true,
    "editable": true
   },
   "source": [
    "## Make toy regression data - sin wave"
   ]
  },
  {
   "cell_type": "code",
   "execution_count": null,
   "metadata": {
    "collapsed": true,
    "deletable": true,
    "editable": true
   },
   "outputs": [],
   "source": [
    "X1 = np.random.rand(500)\n",
    "Y1 = np.sin(6*X1) + np.random.standard_t(3, X1.shape)*0.03"
   ]
  },
  {
   "cell_type": "code",
   "execution_count": null,
   "metadata": {
    "collapsed": false,
    "deletable": true,
    "editable": true
   },
   "outputs": [],
   "source": [
    "plot_regression_data(X1,Y1)"
   ]
  },
  {
   "cell_type": "code",
   "execution_count": null,
   "metadata": {
    "collapsed": true,
    "deletable": true,
    "editable": true
   },
   "outputs": [],
   "source": [
    "toy_df = pd.DataFrame()\n",
    "toy_df['X'] = X1\n",
    "toy_df['label'] = Y1\n",
    "toy_df['dataset'] = toy_df.apply(assign_dataset, axis=1)"
   ]
  },
  {
   "cell_type": "code",
   "execution_count": null,
   "metadata": {
    "collapsed": true,
    "deletable": true,
    "editable": true
   },
   "outputs": [],
   "source": [
    "toy_df.to_csv(PATH_TO_DATASETS + 'regression-sin.csv')"
   ]
  },
  {
   "cell_type": "markdown",
   "metadata": {
    "deletable": true,
    "editable": true
   },
   "source": [
    "## Make toy regression data - step function"
   ]
  },
  {
   "cell_type": "code",
   "execution_count": null,
   "metadata": {
    "collapsed": true,
    "deletable": true,
    "editable": true
   },
   "outputs": [],
   "source": [
    "def step_with_noise(x):\n",
    "    x = np.floor(x)\n",
    "    if x % 2 == 0:\n",
    "        f_x = 1\n",
    "    else:\n",
    "        f_x = 0\n",
    "    e = np.random.normal(scale=0.01)\n",
    "    return f_x + e"
   ]
  },
  {
   "cell_type": "code",
   "execution_count": null,
   "metadata": {
    "collapsed": true,
    "deletable": true,
    "editable": true
   },
   "outputs": [],
   "source": [
    "X2 = np.random.rand(500)*4 - 2\n",
    "Y2 = [step_with_noise(x) for x in X2]"
   ]
  },
  {
   "cell_type": "code",
   "execution_count": null,
   "metadata": {
    "collapsed": false,
    "deletable": true,
    "editable": true
   },
   "outputs": [],
   "source": [
    "plot_regression_data(X2,Y2)"
   ]
  },
  {
   "cell_type": "code",
   "execution_count": null,
   "metadata": {
    "collapsed": true,
    "deletable": true,
    "editable": true
   },
   "outputs": [],
   "source": [
    "toy_df = pd.DataFrame()\n",
    "toy_df['X'] = X2\n",
    "toy_df['label'] = Y2\n",
    "toy_df['dataset'] = toy_df.apply(assign_dataset, axis=1)\n",
    "toy_df.to_csv(PATH_TO_DATASETS + 'regression-step.csv')"
   ]
  },
  {
   "cell_type": "markdown",
   "metadata": {
    "deletable": true,
    "editable": true
   },
   "source": [
    "## Make toy classification data - simple"
   ]
  },
  {
   "cell_type": "code",
   "execution_count": null,
   "metadata": {
    "collapsed": false,
    "deletable": true,
    "editable": true
   },
   "outputs": [],
   "source": [
    "X1 = np.random.normal(loc=[-1,-1], scale=0.5, size=[500,2])\n",
    "X2 = np.random.normal(loc=[1,1], scale=0.5, size=[500,2])"
   ]
  },
  {
   "cell_type": "code",
   "execution_count": null,
   "metadata": {
    "collapsed": false,
    "deletable": true,
    "editable": true
   },
   "outputs": [],
   "source": [
    "plot_binary_classification_data(X1,X2)"
   ]
  },
  {
   "cell_type": "code",
   "execution_count": null,
   "metadata": {
    "collapsed": false,
    "deletable": true,
    "editable": true
   },
   "outputs": [],
   "source": [
    "X = np.concatenate([X1,X2])\n",
    "Y = [0] * 500 + [1] * 500"
   ]
  },
  {
   "cell_type": "code",
   "execution_count": null,
   "metadata": {
    "collapsed": false,
    "deletable": true,
    "editable": true
   },
   "outputs": [],
   "source": [
    "toy_df = pd.DataFrame()\n",
    "toy_df['feat1'] = X[:,0]\n",
    "toy_df['feat2'] = X[:,1]\n",
    "toy_df['label'] = Y\n",
    "toy_df['dataset'] = toy_df.apply(assign_dataset, axis=1)\n",
    "toy_df.to_csv(PATH_TO_DATASETS + 'classification-simple.csv')"
   ]
  },
  {
   "cell_type": "markdown",
   "metadata": {
    "deletable": true,
    "editable": true
   },
   "source": [
    "## Make toy classification data - XOR"
   ]
  },
  {
   "cell_type": "code",
   "execution_count": null,
   "metadata": {
    "collapsed": false,
    "deletable": true,
    "editable": true
   },
   "outputs": [],
   "source": [
    "X1_1 = np.random.normal(loc=[-1,-1], scale=0.5, size=[250,2])\n",
    "X1_2 = np.random.normal(loc=[1,1], scale=0.5, size=[250,2])\n",
    "X2_1 = np.random.normal(loc=[-1,1], scale=0.5, size=[250,2])\n",
    "X2_2 = np.random.normal(loc=[1,-1], scale=0.5, size=[250,2])\n",
    "X1 = np.concatenate([X1_1,X1_2])\n",
    "X2 = np.concatenate([X2_1,X2_2])"
   ]
  },
  {
   "cell_type": "code",
   "execution_count": null,
   "metadata": {
    "collapsed": false,
    "deletable": true,
    "editable": true
   },
   "outputs": [],
   "source": [
    "plot_binary_classification_data(X1,X2)"
   ]
  },
  {
   "cell_type": "code",
   "execution_count": null,
   "metadata": {
    "collapsed": true,
    "deletable": true,
    "editable": true
   },
   "outputs": [],
   "source": [
    "X = np.concatenate([X1,X2])\n",
    "Y = [0] * 500 + [1] * 500"
   ]
  },
  {
   "cell_type": "code",
   "execution_count": null,
   "metadata": {
    "collapsed": true,
    "deletable": true,
    "editable": true
   },
   "outputs": [],
   "source": [
    "toy_df = pd.DataFrame()\n",
    "toy_df['feat1'] = X[:,0]\n",
    "toy_df['feat2'] = X[:,1]\n",
    "toy_df['label'] = Y\n",
    "toy_df['dataset'] = toy_df.apply(assign_dataset, axis=1)\n",
    "toy_df.to_csv(PATH_TO_DATASETS + 'classification-xor.csv')"
   ]
  },
  {
   "cell_type": "code",
   "execution_count": null,
   "metadata": {
    "collapsed": true,
    "deletable": true,
    "editable": true
   },
   "outputs": [],
   "source": []
  }
 ],
 "metadata": {
  "kernelspec": {
   "display_name": "Python 3",
   "language": "python",
   "name": "python3"
  },
  "language_info": {
   "codemirror_mode": {
    "name": "ipython",
    "version": 3
   },
   "file_extension": ".py",
   "mimetype": "text/x-python",
   "name": "python",
   "nbconvert_exporter": "python",
   "pygments_lexer": "ipython3",
   "version": "3.6.0"
  }
 },
 "nbformat": 4,
 "nbformat_minor": 0
}

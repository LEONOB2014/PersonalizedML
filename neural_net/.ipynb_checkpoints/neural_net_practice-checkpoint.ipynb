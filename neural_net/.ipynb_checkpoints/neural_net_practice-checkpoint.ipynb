{
 "cells": [
  {
   "cell_type": "code",
   "execution_count": 1,
   "metadata": {
    "collapsed": false,
    "deletable": true,
    "editable": true
   },
   "outputs": [
    {
     "name": "stdout",
     "output_type": "stream",
     "text": [
      "Populating the interactive namespace from numpy and matplotlib\n"
     ]
    }
   ],
   "source": [
    "import pandas as pd\n",
    "import numpy as np\n",
    "import tensorflow as tf\n",
    "import sys\n",
    "\n",
    "import neural_net\n",
    "\n",
    "%pylab inline"
   ]
  },
  {
   "cell_type": "markdown",
   "metadata": {},
   "source": [
    "## Regression - homework"
   ]
  },
  {
   "cell_type": "code",
   "execution_count": 4,
   "metadata": {
    "collapsed": false
   },
   "outputs": [],
   "source": [
    "dropbox_path = '/Users/Natasha/Dropbox (MIT)/Courses/PersonalizedML/PML - MAS.S61/Homeworks/Homework1-NN/'\n",
    "filename = 'parkinsons_supervised.csv'"
   ]
  },
  {
   "cell_type": "code",
   "execution_count": 5,
   "metadata": {
    "collapsed": true
   },
   "outputs": [],
   "source": [
    "# Set the hyperparameters\n",
    "layer_sizes = [128,32]\n",
    "batch_size = 25\n",
    "learning_rate = .0001\n",
    "dropout_prob = 1.0\n",
    "weight_penalty = 0.0\n",
    "clip_gradients = False"
   ]
  },
  {
   "cell_type": "code",
   "execution_count": 6,
   "metadata": {
    "collapsed": true
   },
   "outputs": [],
   "source": [
    "reload(neural_net)\n",
    "neural_net.reload_files()"
   ]
  },
  {
   "cell_type": "code",
   "execution_count": null,
   "metadata": {
    "collapsed": true
   },
   "outputs": [],
   "source": [
    "net = neural_net.NeuralNetwork(dropbox_path + filename, 'simple_classifier', \n",
    "                               layer_sizes, batch_size, learning_rate, dropout_prob, \n",
    "                               weight_penalty, clip_gradients)"
   ]
  },
  {
   "cell_type": "markdown",
   "metadata": {
    "deletable": true,
    "editable": true
   },
   "source": [
    "## Classification - simple dataset"
   ]
  },
  {
   "cell_type": "code",
   "execution_count": 2,
   "metadata": {
    "collapsed": true,
    "deletable": true,
    "editable": true
   },
   "outputs": [],
   "source": [
    "DATASET_PATH = '../data/'"
   ]
  },
  {
   "cell_type": "code",
   "execution_count": null,
   "metadata": {
    "collapsed": true,
    "deletable": true,
    "editable": true
   },
   "outputs": [],
   "source": [
    "# Set the hyperparameters\n",
    "layer_sizes = [128,32]\n",
    "batch_size = 25\n",
    "learning_rate = .0001\n",
    "dropout_prob = 1.0\n",
    "weight_penalty = 0.0\n",
    "clip_gradients = False"
   ]
  },
  {
   "cell_type": "code",
   "execution_count": null,
   "metadata": {
    "collapsed": false,
    "deletable": true,
    "editable": true
   },
   "outputs": [],
   "source": [
    "# If you make changes to the .py files, you will need to reload them before\n",
    "# the jupyter notebook can see the changes. \n",
    "reload(neural_net)\n",
    "neural_net.reload_files()"
   ]
  },
  {
   "cell_type": "code",
   "execution_count": null,
   "metadata": {
    "collapsed": false,
    "deletable": true,
    "editable": true
   },
   "outputs": [],
   "source": [
    "# Initialize the neural network class with the settings and hyperparameters\n",
    "net = neural_net.NeuralNetwork(DATASET_PATH + 'classification-simple.csv', 'simple_classifier', \n",
    "                               layer_sizes, batch_size, learning_rate, dropout_prob, \n",
    "                               weight_penalty, clip_gradients)"
   ]
  },
  {
   "cell_type": "code",
   "execution_count": null,
   "metadata": {
    "collapsed": false,
    "deletable": true,
    "editable": true
   },
   "outputs": [],
   "source": [
    "net.plot_binary_classification_data()"
   ]
  },
  {
   "cell_type": "code",
   "execution_count": null,
   "metadata": {
    "collapsed": false,
    "deletable": true,
    "editable": true,
    "scrolled": true
   },
   "outputs": [],
   "source": [
    "# Perform SGD\n",
    "net.train(num_steps=200)"
   ]
  },
  {
   "cell_type": "code",
   "execution_count": null,
   "metadata": {
    "collapsed": false,
    "deletable": true,
    "editable": true
   },
   "outputs": [],
   "source": [
    "net.plot_training_progress()"
   ]
  },
  {
   "cell_type": "code",
   "execution_count": null,
   "metadata": {
    "collapsed": false,
    "deletable": true,
    "editable": true
   },
   "outputs": [],
   "source": [
    "# See the decision boundary learned by the neural network\n",
    "net.plot_binary_classification_data(with_decision_boundary=True)"
   ]
  },
  {
   "cell_type": "code",
   "execution_count": null,
   "metadata": {
    "collapsed": false,
    "deletable": true,
    "editable": true
   },
   "outputs": [],
   "source": [
    "net.test_on_validation()"
   ]
  },
  {
   "cell_type": "code",
   "execution_count": null,
   "metadata": {
    "collapsed": true,
    "deletable": true,
    "editable": true
   },
   "outputs": [],
   "source": [
    "# To see the tensorflow model you've built in tensorboard, run the following\n",
    "journalist = tf.summary.FileWriter(net.checkpoint_dir, graph=net.session.graph)\n",
    "journalist.flush()\n",
    "\n",
    "# Now enter the following command at the command line\n",
    "# > tensorboard --logdir 'saved_models'\n",
    "# (you may need to replace 'saved_models' with the path to the actual \n",
    "# net.checkpoint_dir you are using)"
   ]
  },
  {
   "cell_type": "markdown",
   "metadata": {
    "deletable": true,
    "editable": true
   },
   "source": [
    "## Classification - XOR dataset"
   ]
  },
  {
   "cell_type": "code",
   "execution_count": null,
   "metadata": {
    "collapsed": true,
    "deletable": true,
    "editable": true
   },
   "outputs": [],
   "source": [
    "# Set the hyperparameters\n",
    "layer_sizes = [128,32]\n",
    "batch_size = 25\n",
    "learning_rate = .0001\n",
    "dropout_prob = 1.0\n",
    "weight_penalty = 0.0\n",
    "clip_gradients = False"
   ]
  },
  {
   "cell_type": "code",
   "execution_count": null,
   "metadata": {
    "collapsed": true,
    "deletable": true,
    "editable": true
   },
   "outputs": [],
   "source": [
    "reload(neural_net)\n",
    "neural_net.reload_files()"
   ]
  },
  {
   "cell_type": "code",
   "execution_count": null,
   "metadata": {
    "collapsed": false,
    "deletable": true,
    "editable": true
   },
   "outputs": [],
   "source": [
    "net = neural_net.NeuralNetwork(DATASET_PATH + 'classification-xor.csv', 'xor_classifier', \n",
    "                               layer_sizes, batch_size, learning_rate, dropout_prob, \n",
    "                               weight_penalty, clip_gradients)"
   ]
  },
  {
   "cell_type": "code",
   "execution_count": null,
   "metadata": {
    "collapsed": false,
    "deletable": true,
    "editable": true
   },
   "outputs": [],
   "source": [
    "net.plot_binary_classification_data()"
   ]
  },
  {
   "cell_type": "code",
   "execution_count": null,
   "metadata": {
    "collapsed": false,
    "deletable": true,
    "editable": true,
    "scrolled": true
   },
   "outputs": [],
   "source": [
    "net.train(num_steps=200)"
   ]
  },
  {
   "cell_type": "code",
   "execution_count": null,
   "metadata": {
    "collapsed": false,
    "deletable": true,
    "editable": true
   },
   "outputs": [],
   "source": [
    "net.plot_training_progress()"
   ]
  },
  {
   "cell_type": "code",
   "execution_count": null,
   "metadata": {
    "collapsed": false,
    "deletable": true,
    "editable": true
   },
   "outputs": [],
   "source": [
    "net.plot_binary_classification_data(with_decision_boundary=True)"
   ]
  },
  {
   "cell_type": "code",
   "execution_count": null,
   "metadata": {
    "collapsed": false,
    "deletable": true,
    "editable": true
   },
   "outputs": [],
   "source": [
    "net.test_on_validation()"
   ]
  },
  {
   "cell_type": "markdown",
   "metadata": {
    "deletable": true,
    "editable": true
   },
   "source": [
    "## Regression - sin wave"
   ]
  },
  {
   "cell_type": "code",
   "execution_count": 229,
   "metadata": {
    "collapsed": true,
    "deletable": true,
    "editable": true
   },
   "outputs": [],
   "source": [
    "# Set the hyperparameters\n",
    "layer_sizes = [128,32]\n",
    "batch_size = 25\n",
    "learning_rate = .001\n",
    "dropout_prob = 1.0\n",
    "weight_penalty = 0.0\n",
    "clip_gradients = True"
   ]
  },
  {
   "cell_type": "code",
   "execution_count": 231,
   "metadata": {
    "collapsed": false,
    "deletable": true,
    "editable": true
   },
   "outputs": [],
   "source": [
    "reload(neural_net)\n",
    "neural_net.reload_files()"
   ]
  },
  {
   "cell_type": "code",
   "execution_count": 232,
   "metadata": {
    "collapsed": false,
    "deletable": true,
    "editable": true
   },
   "outputs": [
    {
     "name": "stdout",
     "output_type": "stream",
     "text": [
      "Original data length was 500\n",
      "After dropping rows with nan in any label column, length is 500\n",
      "308 rows in training data\n",
      "96 rows in validation data\n",
      "96 rows in testing data\n",
      "\n",
      "Performing regression.\n",
      "Input dimensions (number of features): 1\n",
      "Number of classes/outputs: 1\n",
      "\n",
      "Building computation graph...\n",
      "Okay, making a neural net with the following structure:\n",
      "[('1x128', '128'), ('128x32', '32'), ('32x1', '1')]\n"
     ]
    }
   ],
   "source": [
    "net = neural_net.NeuralNetwork(DATASET_PATH + 'regression-sin.csv', 'sin_regressor', \n",
    "                               layer_sizes, batch_size, learning_rate, dropout_prob, \n",
    "                               weight_penalty, clip_gradients, model_type='regression')"
   ]
  },
  {
   "cell_type": "code",
   "execution_count": 233,
   "metadata": {
    "collapsed": false,
    "deletable": true,
    "editable": true
   },
   "outputs": [
    {
     "data": {
      "image/png": "[encoded data removed]",
      "text/plain": [
       "<matplotlib.figure.Figure at 0x11769c250>"
      ]
     },
     "metadata": {},
     "output_type": "display_data"
    }
   ],
   "source": [
    "net.plot_regression_data()"
   ]
  },
  {
   "cell_type": "code",
   "execution_count": 234,
   "metadata": {
    "collapsed": false,
    "deletable": true,
    "editable": true
   },
   "outputs": [
    {
     "name": "stdout",
     "output_type": "stream",
     "text": [
      "Training iteration 0\n",
      "\t Training RMSE 0.732213\n",
      "\t Validation RMSE 0.711746\n",
      "\t Loss 0.711746\n",
      "Training iteration 300\n",
      "\t Training RMSE 0.128061\n",
      "\t Validation RMSE 0.115141\n",
      "\t Loss 0.115141\n",
      "Training iteration 600\n",
      "\t Training RMSE 0.062201\n",
      "\t Validation RMSE 0.0665008\n",
      "\t Loss 0.0665008\n",
      "Training iteration 900\n",
      "\t Training RMSE 0.0907013\n",
      "\t Validation RMSE 0.065376\n",
      "\t Loss 0.065376\n",
      "Training iteration 1200\n",
      "\t Training RMSE 0.0517334\n",
      "\t Validation RMSE 0.0541296\n",
      "\t Loss 0.0541296\n",
      "Training iteration 1500\n",
      "\t Training RMSE 0.0549648\n",
      "\t Validation RMSE 0.0658554\n",
      "\t Loss 0.0658554\n",
      "Training iteration 1800\n",
      "\t Training RMSE 0.0438422\n",
      "\t Validation RMSE 0.0603314\n",
      "\t Loss 0.0603314\n",
      "Training iteration 2100\n",
      "\t Training RMSE 0.0507735\n",
      "\t Validation RMSE 0.0647957\n",
      "\t Loss 0.0647957\n",
      "Training iteration 2400\n",
      "\t Training RMSE 0.0647817\n",
      "\t Validation RMSE 0.0761761\n",
      "\t Loss 0.0761761\n",
      "Training iteration 2700\n",
      "\t Training RMSE 0.0527959\n",
      "\t Validation RMSE 0.0536248\n",
      "\t Loss 0.0536248\n"
     ]
    }
   ],
   "source": [
    "net.train(num_steps=3000, output_every_nth=300)"
   ]
  },
  {
   "cell_type": "code",
   "execution_count": 235,
   "metadata": {
    "collapsed": false,
    "deletable": true,
    "editable": true
   },
   "outputs": [
    {
     "data": {
      "image/png": "[encoded data removed]",
      "text/plain": [
       "<matplotlib.figure.Figure at 0x11659ffd0>"
      ]
     },
     "metadata": {},
     "output_type": "display_data"
    }
   ],
   "source": [
    "net.plot_training_progress()"
   ]
  },
  {
   "cell_type": "code",
   "execution_count": 236,
   "metadata": {
    "collapsed": false,
    "deletable": true,
    "editable": true
   },
   "outputs": [
    {
     "data": {
      "image/png": "[encoded data removed]",
      "text/plain": [
       "<matplotlib.figure.Figure at 0x117680d10>"
      ]
     },
     "metadata": {},
     "output_type": "display_data"
    }
   ],
   "source": [
    "net.plot_regression_data(with_decision_boundary=True)"
   ]
  },
  {
   "cell_type": "code",
   "execution_count": 237,
   "metadata": {
    "collapsed": false,
    "deletable": true,
    "editable": true
   },
   "outputs": [
    {
     "name": "stdout",
     "output_type": "stream",
     "text": [
      "Final RMSE on validation data is: 0.0570264\n"
     ]
    },
    {
     "data": {
      "text/plain": [
       "0.057026386"
      ]
     },
     "execution_count": 237,
     "metadata": {},
     "output_type": "execute_result"
    }
   ],
   "source": [
    "net.test_on_validation()"
   ]
  },
  {
   "cell_type": "markdown",
   "metadata": {
    "deletable": true,
    "editable": true
   },
   "source": [
    "## Regression - step function"
   ]
  },
  {
   "cell_type": "code",
   "execution_count": 245,
   "metadata": {
    "collapsed": true,
    "deletable": true,
    "editable": true
   },
   "outputs": [],
   "source": [
    "# Set the hyperparameters\n",
    "layer_sizes = [128,64,32]\n",
    "batch_size = 30\n",
    "learning_rate = 10000.\n",
    "dropout_prob = 1.0\n",
    "weight_penalty = 0.0\n",
    "clip_gradients = True"
   ]
  },
  {
   "cell_type": "code",
   "execution_count": 246,
   "metadata": {
    "collapsed": false,
    "deletable": true,
    "editable": true
   },
   "outputs": [],
   "source": [
    "reload(neural_net)\n",
    "neural_net.reload_files()"
   ]
  },
  {
   "cell_type": "code",
   "execution_count": 247,
   "metadata": {
    "collapsed": false,
    "deletable": true,
    "editable": true
   },
   "outputs": [
    {
     "name": "stdout",
     "output_type": "stream",
     "text": [
      "Original data length was 500\n",
      "After dropping rows with nan in any label column, length is 500\n",
      "314 rows in training data\n",
      "86 rows in validation data\n",
      "100 rows in testing data\n",
      "\n",
      "Performing regression.\n",
      "Input dimensions (number of features): 1\n",
      "Number of classes/outputs: 1\n",
      "\n",
      "Building computation graph...\n",
      "Okay, making a neural net with the following structure:\n",
      "[('1x128', '128'), ('128x64', '64'), ('64x32', '32'), ('32x1', '1')]\n"
     ]
    }
   ],
   "source": [
    "net = neural_net.NeuralNetwork(DATASET_PATH + 'regression-step.csv', 'step_regressor', \n",
    "                               layer_sizes, batch_size, learning_rate, dropout_prob, \n",
    "                               weight_penalty, clip_gradients, model_type='regression')"
   ]
  },
  {
   "cell_type": "code",
   "execution_count": 248,
   "metadata": {
    "collapsed": false,
    "deletable": true,
    "editable": true
   },
   "outputs": [
    {
     "data": {
      "image/png": "[encoded data removed]",
      "text/plain": [
       "<matplotlib.figure.Figure at 0x116592890>"
      ]
     },
     "metadata": {},
     "output_type": "display_data"
    }
   ],
   "source": [
    "net.plot_regression_data()"
   ]
  },
  {
   "cell_type": "code",
   "execution_count": 249,
   "metadata": {
    "collapsed": false,
    "deletable": true,
    "editable": true
   },
   "outputs": [
    {
     "name": "stdout",
     "output_type": "stream",
     "text": [
      "Training iteration 0\n",
      "\t Training RMSE inf\n",
      "\t Validation RMSE inf\n",
      "\t Loss inf\n",
      "Training iteration 100\n",
      "\t Training RMSE inf\n",
      "\t Validation RMSE inf\n",
      "\t Loss inf\n"
     ]
    }
   ],
   "source": [
    "net.train(num_steps=200, output_every_nth=100)"
   ]
  },
  {
   "cell_type": "code",
   "execution_count": 250,
   "metadata": {
    "collapsed": false,
    "deletable": true,
    "editable": true
   },
   "outputs": [
    {
     "data": {
      "image/png": "[encoded data removed]",
      "text/plain": [
       "<matplotlib.figure.Figure at 0x109642cd0>"
      ]
     },
     "metadata": {},
     "output_type": "display_data"
    }
   ],
   "source": [
    "net.plot_training_progress()"
   ]
  },
  {
   "cell_type": "code",
   "execution_count": 251,
   "metadata": {
    "collapsed": false,
    "deletable": true,
    "editable": true
   },
   "outputs": [
    {
     "data": {
      "image/png": "[encoded data removed]",
      "text/plain": [
       "<matplotlib.figure.Figure at 0x115d516d0>"
      ]
     },
     "metadata": {},
     "output_type": "display_data"
    }
   ],
   "source": [
    "net.plot_regression_data(with_decision_boundary=True)"
   ]
  },
  {
   "cell_type": "code",
   "execution_count": null,
   "metadata": {
    "collapsed": true,
    "deletable": true,
    "editable": true
   },
   "outputs": [],
   "source": [
    "weights = net.session.run([net.weights])"
   ]
  },
  {
   "cell_type": "code",
   "execution_count": null,
   "metadata": {
    "collapsed": true,
    "deletable": true,
    "editable": true
   },
   "outputs": [],
   "source": []
  }
 ],
 "metadata": {
  "kernelspec": {
   "display_name": "Python 2",
   "language": "python",
   "name": "python2"
  },
  "language_info": {
   "codemirror_mode": {
    "name": "ipython",
    "version": 2
   },
   "file_extension": ".py",
   "mimetype": "text/x-python",
   "name": "python",
   "nbconvert_exporter": "python",
   "pygments_lexer": "ipython2",
   "version": "2.7.10"
  }
 },
 "nbformat": 4,
 "nbformat_minor": 0
}
